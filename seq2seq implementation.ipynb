{
 "cells": [
  {
   "cell_type": "code",
   "execution_count": 1,
   "id": "de59e4bf",
   "metadata": {},
   "outputs": [
    {
     "name": "stdout",
     "output_type": "stream",
     "text": [
      "<class 'pandas.core.frame.DataFrame'>\n",
      "RangeIndex: 98401 entries, 0 to 98400\n",
      "Data columns (total 2 columns):\n",
      " #   Column     Non-Null Count  Dtype \n",
      "---  ------     --------------  ----- \n",
      " 0   headlines  98401 non-null  object\n",
      " 1   text       98401 non-null  object\n",
      "dtypes: object(2)\n",
      "memory usage: 1.5+ MB\n"
     ]
    }
   ],
   "source": [
    "import pandas as pd\n",
    "from seq2seq import Seq2Seq\n",
    "from utils import *\n",
    "from tqdm import tqdm\n",
    "\n",
    "train = pd.read_csv(\"news_summary_more.csv\")\n",
    "\n",
    "train.info()\n"
   ]
  },
  {
   "cell_type": "code",
   "execution_count": 7,
   "id": "7aeffd56",
   "metadata": {},
   "outputs": [
    {
     "name": "stderr",
     "output_type": "stream",
     "text": [
      "100%|██████████████████████████████████████████████████████████████████████████| 65766/65766 [1:11:56<00:00, 15.23it/s]\n"
     ]
    }
   ],
   "source": [
    "# clean the text in both the columns\n",
    "\n",
    "x = list(train.text.values)\n",
    "y = list(train.headlines.values)\n",
    "\n",
    "for i in tqdm(range(len(train))):\n",
    "    x[i] = clean_text(x[i])\n",
    "    y[i] = clean_text(y[i])"
   ]
  },
  {
   "cell_type": "code",
   "execution_count": 8,
   "id": "877545e0",
   "metadata": {},
   "outputs": [],
   "source": [
    "train = pd.DataFrame({\"text\":x,\"headlines\":y})"
   ]
  },
  {
   "cell_type": "code",
   "execution_count": 2,
   "id": "1ac01280",
   "metadata": {},
   "outputs": [],
   "source": [
    "# get word count for both the columns\n",
    "train['text_word_count'] = train.text.apply(lambda x: len(x.split()))\n",
    "train['headlines_word_count'] = train.headlines.apply(lambda x: len(x.split()))"
   ]
  },
  {
   "cell_type": "code",
   "execution_count": 3,
   "id": "a157f666",
   "metadata": {},
   "outputs": [
    {
     "data": {
      "text/plain": [
       "array([[<AxesSubplot:title={'center':'text_word_count'}>,\n",
       "        <AxesSubplot:title={'center':'headlines_word_count'}>]],\n",
       "      dtype=object)"
      ]
     },
     "execution_count": 3,
     "metadata": {},
     "output_type": "execute_result"
    },
    {
     "data": {
      "image/png": "[encoded data removed]",
      "text/plain": [
       "<Figure size 432x288 with 2 Axes>"
      ]
     },
     "metadata": {
      "needs_background": "light"
     },
     "output_type": "display_data"
    }
   ],
   "source": [
    "# visualize the word count\n",
    "train.hist()"
   ]
  },
  {
   "cell_type": "code",
   "execution_count": 3,
   "id": "1058109c",
   "metadata": {},
   "outputs": [
    {
     "data": {
      "text/plain": [
       "64144"
      ]
     },
     "execution_count": 3,
     "metadata": {},
     "output_type": "execute_result"
    }
   ],
   "source": [
    "# add tokens in summary column to denote the begininnig and end of sentence\n",
    "train.headlines = train.headlines.apply(lambda x: \"<sos> \"+x+\" <eos>\")"
   ]
  },
  {
   "cell_type": "code",
   "execution_count": 2,
   "id": "8ddc2089",
   "metadata": {},
   "outputs": [],
   "source": [
    "# get count of non rare words in both columns\n",
    "text_total_count = non_rare_word_count(train.text)\n",
    "headlines_total_count = non_rare_word_count(train.headlines)"
   ]
  },
  {
   "cell_type": "code",
   "execution_count": 3,
   "id": "b6b252fc",
   "metadata": {},
   "outputs": [],
   "source": [
    "# get the length of the longest text in from both columns\n",
    "text_maxlen = train.text_word_count.max()\n",
    "headlines_maxlen = train.headlines_word_count.max()"
   ]
  },
  {
   "cell_type": "code",
   "execution_count": 4,
   "id": "8fd2455c",
   "metadata": {},
   "outputs": [],
   "source": [
    "# convert text to sequence data\n",
    "\n",
    "xtk = Tokenizer(num_words=text_total_count)\n",
    "xtk.fit_on_texts(train.text.values)\n",
    "xtrain_seq = xtk.texts_to_sequences(train.text.values)\n",
    "xtrain_padded = pad_sequences(xtrain_seq,maxlen=text_maxlen,padding='post')\n",
    "x_voc = xtk.num_words+1\n",
    "\n",
    "ytk = Tokenizer(num_words=headlines_total_count,filters='')\n",
    "ytk.fit_on_texts(train.headlines.values)\n",
    "ytrain_seq = ytk.texts_to_sequences(train.headlines.values)\n",
    "ytrain_padded = pad_sequences(ytrain_seq,maxlen=headlines_maxlen,padding='post')\n",
    "y_voc = ytk.num_words+1"
   ]
  },
  {
   "cell_type": "code",
   "execution_count": 5,
   "id": "a2f9bb20",
   "metadata": {},
   "outputs": [
    {
     "name": "stdout",
     "output_type": "stream",
     "text": [
      "vocabulary size of original text : 30980\n",
      "vocabulary size of summary text : 13545\n"
     ]
    }
   ],
   "source": [
    "print(f\"vocabulary size of original text : {x_voc}\")\n",
    "print(f\"vocabulary size of summary text : {y_voc}\")"
   ]
  },
  {
   "cell_type": "code",
   "execution_count": 6,
   "id": "4aafb5b0",
   "metadata": {},
   "outputs": [
    {
     "data": {
      "text/plain": [
       "((98401, 74), (98401, 18))"
      ]
     },
     "execution_count": 6,
     "metadata": {},
     "output_type": "execute_result"
    }
   ],
   "source": [
    "xtrain_padded.shape,ytrain_padded.shape"
   ]
  },
  {
   "cell_type": "code",
   "execution_count": 7,
   "id": "04ef1542",
   "metadata": {},
   "outputs": [],
   "source": [
    "xtrain = [xtrain_padded,ytrain_padded[:,:-1]]\n",
    "ytrain = ytrain_padded.reshape(ytrain_padded.shape[0],ytrain_padded.shape[1],1)[:,1:]"
   ]
  },
  {
   "cell_type": "code",
   "execution_count": 8,
   "id": "8ee7e398",
   "metadata": {},
   "outputs": [
    {
     "name": "stdout",
     "output_type": "stream",
     "text": [
      "Loading Glove Model\n",
      "400000 words loaded!\n"
     ]
    }
   ],
   "source": [
    "# load pretrained glove embeddings\n",
    "def load_glove_model(File):\n",
    "    print(\"Loading Glove Model\")\n",
    "    glove_model = {}\n",
    "    with open(File,'r',encoding='utf-8') as f:\n",
    "        for line in f:\n",
    "            split_line = line.split()\n",
    "            word = split_line[0]\n",
    "            embedding = np.array(split_line[1:], dtype=np.float64)\n",
    "            glove_model[word] = embedding\n",
    "    print(f\"{len(glove_model)} words loaded!\")\n",
    "    return glove_model\n",
    " \n",
    "glove_embeddings = load_glove_model(\"glove.6B.100d.txt\")"
   ]
  },
  {
   "cell_type": "code",
   "execution_count": 9,
   "id": "edcef210",
   "metadata": {},
   "outputs": [],
   "source": [
    "# create embedding matrices\n",
    "\n",
    "x_emb = np.zeros((x_voc,100))\n",
    "for w,idx in xtk.word_index.items():\n",
    "    try: x_emb[idx] = glove_embeddings[w]\n",
    "    except: pass\n",
    "\n",
    "y_emb = np.zeros((y_voc,100))\n",
    "for w,idx in ytk.word_index.items():\n",
    "    try: y_emb[idx] = glove_embeddings[w]\n",
    "    except: pass    "
   ]
  },
  {
   "cell_type": "code",
   "execution_count": 10,
   "id": "69e444eb",
   "metadata": {},
   "outputs": [],
   "source": [
    "from tensorflow.keras.callbacks import EarlyStopping, ModelCheckpoint\n",
    "from tensorflow.keras.optimizers import Adam, RMSprop, SGD\n",
    "\n",
    "adam = Adam(learning_rate=3e-4)\n",
    "\n",
    "es = EarlyStopping(monitor='val_loss',mode='min',patience=2)\n",
    "chk = ModelCheckpoint(\"s2s.h5\",mode=\"min\", monitor=\"val_loss\", save_best_only=True)\n",
    "callbacks = [es,chk]"
   ]
  },
  {
   "cell_type": "code",
   "execution_count": 11,
   "id": "629cdfc7",
   "metadata": {},
   "outputs": [
    {
     "name": "stdout",
     "output_type": "stream",
     "text": [
      "Model: \"model\"\n",
      "__________________________________________________________________________________________________\n",
      " Layer (type)                   Output Shape         Param #     Connected to                     \n",
      "==================================================================================================\n",
      " input_1 (InputLayer)           [(None, 74)]         0           []                               \n",
      "                                                                                                  \n",
      " encoder_embedding (Embedding)  (None, 74, 100)      3098000     ['input_1[0][0]']                \n",
      "                                                                                                  \n",
      " encoder_0 (LSTM)               [(None, 74, 200),    240800      ['encoder_embedding[0][0]']      \n",
      "                                 (None, 200),                                                     \n",
      "                                 (None, 200)]                                                     \n",
      "                                                                                                  \n",
      " input_2 (InputLayer)           [(None, None)]       0           []                               \n",
      "                                                                                                  \n",
      " encoder_1 (LSTM)               [(None, 74, 200),    320800      ['encoder_0[0][0]',              \n",
      "                                 (None, 200),                     'encoder_0[0][1]',              \n",
      "                                 (None, 200)]                     'encoder_0[0][2]']              \n",
      "                                                                                                  \n",
      " decoder_embedding (Embedding)  (None, None, 100)    1354500     ['input_2[0][0]']                \n",
      "                                                                                                  \n",
      " encoder_2 (LSTM)               [(None, 74, 200),    320800      ['encoder_1[0][0]',              \n",
      "                                 (None, 200),                     'encoder_1[0][1]',              \n",
      "                                 (None, 200)]                     'encoder_1[0][2]']              \n",
      "                                                                                                  \n",
      " decoder_lstm (LSTM)            [(None, None, 200),  240800      ['decoder_embedding[0][0]',      \n",
      "                                 (None, 200),                     'encoder_2[0][1]',              \n",
      "                                 (None, 200)]                     'encoder_2[0][2]']              \n",
      "                                                                                                  \n",
      " attention (Attention)          (None, None, 200)    0           ['decoder_lstm[0][0]',           \n",
      "                                                                  'encoder_2[0][0]']              \n",
      "                                                                                                  \n",
      " concatenate (Concatenate)      (None, None, 400)    0           ['attention[0][0]',              \n",
      "                                                                  'decoder_lstm[0][0]']           \n",
      "                                                                                                  \n",
      " dense (Dense)                  (None, None, 13545)  5431545     ['concatenate[0][0]']            \n",
      "                                                                                                  \n",
      "==================================================================================================\n",
      "Total params: 11,007,245\n",
      "Trainable params: 9,652,745\n",
      "Non-trainable params: 1,354,500\n",
      "__________________________________________________________________________________________________\n"
     ]
    }
   ],
   "source": [
    "# initialize seq2seq \n",
    "s2s = Seq2Seq(emb_dim=100,latent_dim=200, pretrained=True, bi_layers=False)\n",
    "\n",
    "# build encoder and decoder\n",
    "s2s.build_encoder(max_input_len=text_maxlen, x_vocab_size=x_voc, trainable=True,\n",
    "                  pretrained_weights=x_emb, num_layers=3, dropout=0.3)\n",
    "\n",
    "s2s.build_decoder(y_vocab_size=y_voc, pretrained_weights=y_emb)\n",
    "\n",
    "# stack encoder and decoder and compile the model\n",
    "s2s_model = s2s.stack_and_compile(optimizer=adam)\n",
    "s2s_model.summary()"
   ]
  },
  {
   "cell_type": "code",
   "execution_count": 12,
   "id": "6551ab42",
   "metadata": {
    "scrolled": true
   },
   "outputs": [
    {
     "name": "stdout",
     "output_type": "stream",
     "text": [
      "Epoch 1/100\n",
      "1230/1230 [==============================] - 84s 63ms/step - loss: 4.5073 - val_loss: 4.1129\n",
      "Epoch 2/100\n",
      "1230/1230 [==============================] - 96s 78ms/step - loss: 4.0696 - val_loss: 3.8621\n",
      "Epoch 3/100\n",
      "1230/1230 [==============================] - 100s 81ms/step - loss: 3.7961 - val_loss: 3.6734\n",
      "Epoch 4/100\n",
      "1230/1230 [==============================] - 101s 82ms/step - loss: 3.6031 - val_loss: 3.5389\n",
      "Epoch 5/100\n",
      "1230/1230 [==============================] - 112s 91ms/step - loss: 3.4493 - val_loss: 3.4324\n",
      "Epoch 6/100\n",
      "1230/1230 [==============================] - 119s 97ms/step - loss: 3.3216 - val_loss: 3.3512\n",
      "Epoch 7/100\n",
      "1230/1230 [==============================] - 131s 107ms/step - loss: 3.2123 - val_loss: 3.2777\n",
      "Epoch 8/100\n",
      "1230/1230 [==============================] - 133s 109ms/step - loss: 3.1141 - val_loss: 3.2218\n",
      "Epoch 9/100\n",
      "1230/1230 [==============================] - 139s 113ms/step - loss: 3.0251 - val_loss: 3.1672\n",
      "Epoch 10/100\n",
      "1230/1230 [==============================] - 135s 110ms/step - loss: 2.9441 - val_loss: 3.1201\n",
      "Epoch 11/100\n",
      "1230/1230 [==============================] - 145s 118ms/step - loss: 2.8701 - val_loss: 3.0825\n",
      "Epoch 12/100\n",
      "1230/1230 [==============================] - 143s 116ms/step - loss: 2.8012 - val_loss: 3.0485\n",
      "Epoch 13/100\n",
      "1230/1230 [==============================] - 152s 123ms/step - loss: 2.7375 - val_loss: 3.0198\n",
      "Epoch 14/100\n",
      "1230/1230 [==============================] - 143s 116ms/step - loss: 2.6770 - val_loss: 2.9900\n",
      "Epoch 15/100\n",
      "1230/1230 [==============================] - 138s 112ms/step - loss: 2.6209 - val_loss: 2.9672\n",
      "Epoch 16/100\n",
      "1230/1230 [==============================] - 137s 111ms/step - loss: 2.5681 - val_loss: 2.9523\n",
      "Epoch 17/100\n",
      "1230/1230 [==============================] - 142s 116ms/step - loss: 2.5186 - val_loss: 2.9369\n",
      "Epoch 18/100\n",
      "1230/1230 [==============================] - 142s 116ms/step - loss: 2.4713 - val_loss: 2.9163\n",
      "Epoch 19/100\n",
      "1230/1230 [==============================] - 142s 115ms/step - loss: 2.4262 - val_loss: 2.9027\n",
      "Epoch 20/100\n",
      "1230/1230 [==============================] - 149s 121ms/step - loss: 2.3831 - val_loss: 2.8937\n",
      "Epoch 21/100\n",
      "1230/1230 [==============================] - 150s 122ms/step - loss: 2.3422 - val_loss: 2.8845\n",
      "Epoch 22/100\n",
      "1230/1230 [==============================] - 156s 127ms/step - loss: 2.3028 - val_loss: 2.8828\n",
      "Epoch 23/100\n",
      "1230/1230 [==============================] - 150s 122ms/step - loss: 2.2658 - val_loss: 2.8733\n",
      "Epoch 24/100\n",
      "1230/1230 [==============================] - 165s 134ms/step - loss: 2.2294 - val_loss: 2.8648\n",
      "Epoch 25/100\n",
      "1230/1230 [==============================] - 143s 117ms/step - loss: 2.1945 - val_loss: 2.8610\n",
      "Epoch 26/100\n",
      "1230/1230 [==============================] - 144s 117ms/step - loss: 2.1613 - val_loss: 2.8616\n",
      "Epoch 27/100\n",
      "1230/1230 [==============================] - 149s 121ms/step - loss: 2.1289 - val_loss: 2.8606\n",
      "Epoch 28/100\n",
      "1230/1230 [==============================] - 153s 124ms/step - loss: 2.0984 - val_loss: 2.8548\n",
      "Epoch 29/100\n",
      "1230/1230 [==============================] - 150s 122ms/step - loss: 2.0685 - val_loss: 2.8527\n",
      "Epoch 30/100\n",
      "1230/1230 [==============================] - 150s 122ms/step - loss: 2.0391 - val_loss: 2.8523\n",
      "Epoch 31/100\n",
      "1230/1230 [==============================] - 161s 131ms/step - loss: 2.0114 - val_loss: 2.8576\n",
      "Epoch 32/100\n",
      "1230/1230 [==============================] - 152s 124ms/step - loss: 1.9844 - val_loss: 2.8535\n"
     ]
    },
    {
     "data": {
      "text/plain": [
       "<keras.callbacks.History at 0x23f85a00220>"
      ]
     },
     "execution_count": 12,
     "metadata": {},
     "output_type": "execute_result"
    }
   ],
   "source": [
    "# train the model\n",
    "s2s_model.fit(xtrain,ytrain,batch_size=64,epochs=100,validation_split=0.2,callbacks=callbacks)"
   ]
  },
  {
   "cell_type": "code",
   "execution_count": 6,
   "id": "f3760759",
   "metadata": {},
   "outputs": [],
   "source": [
    "# save tokenizers\n",
    "\n",
    "import pickle\n",
    "\n",
    "with open(\"xtk.pkl\",\"wb\") as f:\n",
    "    pickle.dump(xtk,f)\n",
    "    \n",
    "with open(\"ytk.pkl\",\"wb\") as f:\n",
    "    pickle.dump(ytk,f)\n"
   ]
  }
 ],
 "metadata": {
  "kernelspec": {
   "display_name": "Python 3 (ipykernel)",
   "language": "python",
   "name": "python3"
  },
  "language_info": {
   "codemirror_mode": {
    "name": "ipython",
    "version": 3
   },
   "file_extension": ".py",
   "mimetype": "text/x-python",
   "name": "python",
   "nbconvert_exporter": "python",
   "pygments_lexer": "ipython3",
   "version": "3.8.6"
  }
 },
 "nbformat": 4,
 "nbformat_minor": 5
}
